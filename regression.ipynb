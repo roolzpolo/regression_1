{
 "cells": [
  {
   "cell_type": "markdown",
   "id": "60e42d11-8e43-4d9c-a677-e91c1ee376c7",
   "metadata": {},
   "source": [
    "# Ciencia de Datos en Python\n",
    "## Proyecto #1"
   ]
  },
  {
   "cell_type": "code",
   "execution_count": null,
   "id": "c1753349-e913-4c17-8cf7-bc6f2302dea0",
   "metadata": {},
   "outputs": [],
   "source": []
  }
 ],
 "metadata": {
  "kernelspec": {
   "display_name": "Python 3 (ipykernel)",
   "language": "python",
   "name": "python3"
  },
  "language_info": {
   "codemirror_mode": {
    "name": "ipython",
    "version": 3
   },
   "file_extension": ".py",
   "mimetype": "text/x-python",
   "name": "python",
   "nbconvert_exporter": "python",
   "pygments_lexer": "ipython3",
   "version": "3.11.5"
  }
 },
 "nbformat": 4,
 "nbformat_minor": 5
}
