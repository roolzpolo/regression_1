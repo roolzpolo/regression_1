{
 "cells": [
  {
   "cell_type": "markdown",
   "id": "60e42d11-8e43-4d9c-a677-e91c1ee376c7",
   "metadata": {},
   "source": [
    "# Ciencia de Datos en Python\n",
    "## Proyecto #1"
   ]
  },
  {
   "cell_type": "markdown",
   "id": "cbef6526-0257-475d-b14a-0cc0d2928052",
   "metadata": {},
   "source": [
    "### Creacion de entorno virtual en Anaconda "
   ]
  },
  {
   "cell_type": "code",
   "execution_count": 1,
   "id": "fc4eec64-6969-4c81-b046-88b838b00b94",
   "metadata": {
    "tags": []
   },
   "outputs": [],
   "source": [
    "# conda create --name regression_1 python=3.8 numpy pandas matplotlib seaborn scikit-learn\n",
    "# conda activate regression_1"
   ]
  },
  {
   "cell_type": "code",
   "execution_count": 11,
   "id": "d12b9f98-001e-42b7-b2c5-62ca9154b58f",
   "metadata": {
    "tags": []
   },
   "outputs": [],
   "source": [
    "# Carga de librerias \n",
    "import numpy as np\n",
    "import pandas as pd"
   ]
  },
  {
   "cell_type": "code",
   "execution_count": 13,
   "id": "842731c4-9196-4818-8f7b-9a216f610325",
   "metadata": {
    "tags": []
   },
   "outputs": [
    {
     "name": "stdout",
     "output_type": "stream",
     "text": [
      "Dataset completo: (1460, 6)\n",
      "Set de entrenamiento: (1168, 6)\n",
      "Set de validación: (292, 6)\n"
     ]
    }
   ],
   "source": [
    "# Cargar datos\n",
    "data = np.load('proyecto_training_data.npy')\n",
    "\n",
    "# Calcular el índice para dividir los datos\n",
    "split_index = int(len(data) * 0.8)\n",
    "\n",
    "# Dividir datos en entrenamiento y validación\n",
    "train_data = data[:split_index]\n",
    "test_data = data[split_index:]\n",
    "\n",
    "# Verificando las dimensiones de los conjuntos de datos\n",
    "print(f'Dataset completo: {data.shape}')\n",
    "print(f'Set de entrenamiento: {train_data.shape}')\n",
    "print(f'Set de validación: {test_data.shape}')"
   ]
  },
  {
   "cell_type": "code",
   "execution_count": null,
   "id": "ef422f45-8431-4756-b8cf-38bd30f74d0b",
   "metadata": {},
   "outputs": [],
   "source": []
  }
 ],
 "metadata": {
  "kernelspec": {
   "display_name": "Python 3 (ipykernel)",
   "language": "python",
   "name": "python3"
  },
  "language_info": {
   "codemirror_mode": {
    "name": "ipython",
    "version": 3
   },
   "file_extension": ".py",
   "mimetype": "text/x-python",
   "name": "python",
   "nbconvert_exporter": "python",
   "pygments_lexer": "ipython3",
   "version": "3.11.5"
  }
 },
 "nbformat": 4,
 "nbformat_minor": 5
}
